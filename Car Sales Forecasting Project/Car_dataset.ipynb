{
 "cells": [
  {
   "cell_type": "code",
   "execution_count": 2,
   "id": "7bbdbadd",
   "metadata": {},
   "outputs": [],
   "source": [
    "import pandas as pd\n",
    "import numpy as np\n",
    "import matplotlib.pyplot as plt\n",
    "import seaborn as sns"
   ]
  },
  {
   "cell_type": "code",
   "execution_count": 3,
   "id": "31141de9",
   "metadata": {},
   "outputs": [],
   "source": [
    "df = pd.read_csv(\"cars_ds_final.csv\")"
   ]
  },
  {
   "cell_type": "code",
   "execution_count": 4,
   "id": "ca76fb49",
   "metadata": {},
   "outputs": [
    {
     "data": {
      "text/html": [
       "<div>\n",
       "<style scoped>\n",
       "    .dataframe tbody tr th:only-of-type {\n",
       "        vertical-align: middle;\n",
       "    }\n",
       "\n",
       "    .dataframe tbody tr th {\n",
       "        vertical-align: top;\n",
       "    }\n",
       "\n",
       "    .dataframe thead th {\n",
       "        text-align: right;\n",
       "    }\n",
       "</style>\n",
       "<table border=\"1\" class=\"dataframe\">\n",
       "  <thead>\n",
       "    <tr style=\"text-align: right;\">\n",
       "      <th></th>\n",
       "      <th>Make</th>\n",
       "      <th>Model</th>\n",
       "      <th>Variant</th>\n",
       "      <th>Ex-Showroom_Price</th>\n",
       "      <th>Displacement</th>\n",
       "      <th>Cylinders</th>\n",
       "      <th>Valves_Per_Cylinder</th>\n",
       "      <th>Drivetrain</th>\n",
       "      <th>Cylinder_Configuration</th>\n",
       "      <th>Emission_Norm</th>\n",
       "      <th>...</th>\n",
       "      <th>Fuel_Gauge</th>\n",
       "      <th>Handbrake</th>\n",
       "      <th>Instrument_Console</th>\n",
       "      <th>Low_Fuel_Warning</th>\n",
       "      <th>Minimum_Turning_Radius</th>\n",
       "      <th>Multifunction_Display</th>\n",
       "      <th>Sun_Visor</th>\n",
       "      <th>Third_Row_AC_Vents</th>\n",
       "      <th>Ventilation_System</th>\n",
       "      <th>Auto-Dimming_Rear-View_Mirror</th>\n",
       "    </tr>\n",
       "  </thead>\n",
       "  <tbody>\n",
       "    <tr>\n",
       "      <th>0</th>\n",
       "      <td>Tata</td>\n",
       "      <td>Nano Genx</td>\n",
       "      <td>Xt</td>\n",
       "      <td>Rs. 2,92,667</td>\n",
       "      <td>624 cc</td>\n",
       "      <td>2.0</td>\n",
       "      <td>2.0</td>\n",
       "      <td>RWD (Rear Wheel Drive)</td>\n",
       "      <td>In-line</td>\n",
       "      <td>BS IV</td>\n",
       "      <td>...</td>\n",
       "      <td>Digital</td>\n",
       "      <td>Manual</td>\n",
       "      <td>Analog + Digital</td>\n",
       "      <td>Yes</td>\n",
       "      <td>4 meter</td>\n",
       "      <td>Yes</td>\n",
       "      <td>Driver &amp; Front Passenger</td>\n",
       "      <td>Not Applicable</td>\n",
       "      <td>Manual Air conditioning with cooling and heating</td>\n",
       "      <td>NaN</td>\n",
       "    </tr>\n",
       "    <tr>\n",
       "      <th>1</th>\n",
       "      <td>Tata</td>\n",
       "      <td>Nano Genx</td>\n",
       "      <td>Xe</td>\n",
       "      <td>Rs. 2,36,447</td>\n",
       "      <td>624 cc</td>\n",
       "      <td>2.0</td>\n",
       "      <td>2.0</td>\n",
       "      <td>RWD (Rear Wheel Drive)</td>\n",
       "      <td>In-line</td>\n",
       "      <td>BS IV</td>\n",
       "      <td>...</td>\n",
       "      <td>Digital</td>\n",
       "      <td>Manual</td>\n",
       "      <td>Analog + Digital</td>\n",
       "      <td>Yes</td>\n",
       "      <td>4 meter</td>\n",
       "      <td>Yes</td>\n",
       "      <td>Driver &amp; Front Passenger</td>\n",
       "      <td>Not Applicable</td>\n",
       "      <td>NaN</td>\n",
       "      <td>NaN</td>\n",
       "    </tr>\n",
       "    <tr>\n",
       "      <th>2</th>\n",
       "      <td>Tata</td>\n",
       "      <td>Nano Genx</td>\n",
       "      <td>Emax Xm</td>\n",
       "      <td>Rs. 2,96,661</td>\n",
       "      <td>624 cc</td>\n",
       "      <td>2.0</td>\n",
       "      <td>2.0</td>\n",
       "      <td>RWD (Rear Wheel Drive)</td>\n",
       "      <td>In-line</td>\n",
       "      <td>BS IV</td>\n",
       "      <td>...</td>\n",
       "      <td>Digital</td>\n",
       "      <td>Manual</td>\n",
       "      <td>Analog + Digital</td>\n",
       "      <td>Yes</td>\n",
       "      <td>4 meter</td>\n",
       "      <td>Yes</td>\n",
       "      <td>Driver &amp; Front Passenger</td>\n",
       "      <td>Not Applicable</td>\n",
       "      <td>Air Conditioning with cooling only</td>\n",
       "      <td>Yes</td>\n",
       "    </tr>\n",
       "    <tr>\n",
       "      <th>3</th>\n",
       "      <td>Tata</td>\n",
       "      <td>Nano Genx</td>\n",
       "      <td>Xta</td>\n",
       "      <td>Rs. 3,34,768</td>\n",
       "      <td>624 cc</td>\n",
       "      <td>2.0</td>\n",
       "      <td>2.0</td>\n",
       "      <td>RWD (Rear Wheel Drive)</td>\n",
       "      <td>In-line</td>\n",
       "      <td>BS IV</td>\n",
       "      <td>...</td>\n",
       "      <td>Digital</td>\n",
       "      <td>Manual</td>\n",
       "      <td>Analog + Digital</td>\n",
       "      <td>Yes</td>\n",
       "      <td>4 meter</td>\n",
       "      <td>Yes</td>\n",
       "      <td>Driver &amp; Front Passenger</td>\n",
       "      <td>Not Applicable</td>\n",
       "      <td>Manual Air conditioning with cooling and heating</td>\n",
       "      <td>NaN</td>\n",
       "    </tr>\n",
       "    <tr>\n",
       "      <th>4</th>\n",
       "      <td>Tata</td>\n",
       "      <td>Nano Genx</td>\n",
       "      <td>Xm</td>\n",
       "      <td>Rs. 2,72,223</td>\n",
       "      <td>624 cc</td>\n",
       "      <td>2.0</td>\n",
       "      <td>2.0</td>\n",
       "      <td>RWD (Rear Wheel Drive)</td>\n",
       "      <td>In-line</td>\n",
       "      <td>BS IV</td>\n",
       "      <td>...</td>\n",
       "      <td>Digital</td>\n",
       "      <td>Manual</td>\n",
       "      <td>Analog + Digital</td>\n",
       "      <td>Yes</td>\n",
       "      <td>4 meter</td>\n",
       "      <td>Yes</td>\n",
       "      <td>Driver &amp; Front Passenger</td>\n",
       "      <td>Not Applicable</td>\n",
       "      <td>Air Conditioning with cooling only</td>\n",
       "      <td>NaN</td>\n",
       "    </tr>\n",
       "  </tbody>\n",
       "</table>\n",
       "<p>5 rows × 79 columns</p>\n",
       "</div>"
      ],
      "text/plain": [
       "   Make      Model  Variant Ex-Showroom_Price Displacement  Cylinders  \\\n",
       "0  Tata  Nano Genx       Xt      Rs. 2,92,667       624 cc        2.0   \n",
       "1  Tata  Nano Genx       Xe      Rs. 2,36,447       624 cc        2.0   \n",
       "2  Tata  Nano Genx  Emax Xm      Rs. 2,96,661       624 cc        2.0   \n",
       "3  Tata  Nano Genx      Xta      Rs. 3,34,768       624 cc        2.0   \n",
       "4  Tata  Nano Genx       Xm      Rs. 2,72,223       624 cc        2.0   \n",
       "\n",
       "   Valves_Per_Cylinder              Drivetrain Cylinder_Configuration  \\\n",
       "0                  2.0  RWD (Rear Wheel Drive)                In-line   \n",
       "1                  2.0  RWD (Rear Wheel Drive)                In-line   \n",
       "2                  2.0  RWD (Rear Wheel Drive)                In-line   \n",
       "3                  2.0  RWD (Rear Wheel Drive)                In-line   \n",
       "4                  2.0  RWD (Rear Wheel Drive)                In-line   \n",
       "\n",
       "  Emission_Norm  ... Fuel_Gauge Handbrake Instrument_Console Low_Fuel_Warning  \\\n",
       "0         BS IV  ...    Digital    Manual   Analog + Digital              Yes   \n",
       "1         BS IV  ...    Digital    Manual   Analog + Digital              Yes   \n",
       "2         BS IV  ...    Digital    Manual   Analog + Digital              Yes   \n",
       "3         BS IV  ...    Digital    Manual   Analog + Digital              Yes   \n",
       "4         BS IV  ...    Digital    Manual   Analog + Digital              Yes   \n",
       "\n",
       "  Minimum_Turning_Radius Multifunction_Display                 Sun_Visor  \\\n",
       "0                4 meter                   Yes  Driver & Front Passenger   \n",
       "1                4 meter                   Yes  Driver & Front Passenger   \n",
       "2                4 meter                   Yes  Driver & Front Passenger   \n",
       "3                4 meter                   Yes  Driver & Front Passenger   \n",
       "4                4 meter                   Yes  Driver & Front Passenger   \n",
       "\n",
       "  Third_Row_AC_Vents                                Ventilation_System  \\\n",
       "0     Not Applicable  Manual Air conditioning with cooling and heating   \n",
       "1     Not Applicable                                               NaN   \n",
       "2     Not Applicable                Air Conditioning with cooling only   \n",
       "3     Not Applicable  Manual Air conditioning with cooling and heating   \n",
       "4     Not Applicable                Air Conditioning with cooling only   \n",
       "\n",
       "  Auto-Dimming_Rear-View_Mirror  \n",
       "0                           NaN  \n",
       "1                           NaN  \n",
       "2                           Yes  \n",
       "3                           NaN  \n",
       "4                           NaN  \n",
       "\n",
       "[5 rows x 79 columns]"
      ]
     },
     "execution_count": 4,
     "metadata": {},
     "output_type": "execute_result"
    }
   ],
   "source": [
    "df.head()"
   ]
  },
  {
   "cell_type": "code",
   "execution_count": 5,
   "id": "4b498b48",
   "metadata": {},
   "outputs": [
    {
     "name": "stdout",
     "output_type": "stream",
     "text": [
      "<class 'pandas.core.frame.DataFrame'>\n",
      "RangeIndex: 1276 entries, 0 to 1275\n",
      "Data columns (total 79 columns):\n",
      " #   Column                          Non-Null Count  Dtype  \n",
      "---  ------                          --------------  -----  \n",
      " 0   Make                            1201 non-null   object \n",
      " 1   Model                           1276 non-null   object \n",
      " 2   Variant                         1276 non-null   object \n",
      " 3   Ex-Showroom_Price               1276 non-null   object \n",
      " 4   Displacement                    1264 non-null   object \n",
      " 5   Cylinders                       1210 non-null   float64\n",
      " 6   Valves_Per_Cylinder             1174 non-null   float64\n",
      " 7   Drivetrain                      1269 non-null   object \n",
      " 8   Cylinder_Configuration          1263 non-null   object \n",
      " 9   Emission_Norm                   1265 non-null   object \n",
      " 10  Engine_Location                 1233 non-null   object \n",
      " 11  Fuel_System                     1268 non-null   object \n",
      " 12  Fuel_Tank_Capacity              1207 non-null   object \n",
      " 13  Fuel_Type                       1276 non-null   object \n",
      " 14  Height                          1275 non-null   object \n",
      " 15  Length                          1276 non-null   object \n",
      " 16  Width                           1264 non-null   object \n",
      " 17  Body_Type                       1270 non-null   object \n",
      " 18  Doors                           1272 non-null   float64\n",
      " 19  City_Mileage                    721 non-null    object \n",
      " 20  Highway_Mileage                 476 non-null    object \n",
      " 21  ARAI_Certified_Mileage          1162 non-null   object \n",
      " 22  ARAI_Certified_Mileage_for_CNG  27 non-null     object \n",
      " 23  Kerb_Weight                     911 non-null    object \n",
      " 24  Gears                           1171 non-null   object \n",
      " 25  Ground_Clearance                987 non-null    object \n",
      " 26  Front_Brakes                    1251 non-null   object \n",
      " 27  Rear_Brakes                     1251 non-null   object \n",
      " 28  Front_Suspension                1217 non-null   object \n",
      " 29  Rear_Suspension                 1230 non-null   object \n",
      " 30  Front_Track                     609 non-null    object \n",
      " 31  Rear_Track                      600 non-null    object \n",
      " 32  Front_Tyre_&_Rim                1227 non-null   object \n",
      " 33  Rear_Tyre_&_Rim                 1228 non-null   object \n",
      " 34  Power_Steering                  1219 non-null   object \n",
      " 35  Power_Windows                   1179 non-null   object \n",
      " 36  Power_Seats                     383 non-null    object \n",
      " 37  Keyless_Entry                   1002 non-null   object \n",
      " 38  Power                           1276 non-null   object \n",
      " 39  Torque                          1274 non-null   object \n",
      " 40  Odometer                        1233 non-null   object \n",
      " 41  Speedometer                     1231 non-null   object \n",
      " 42  Tachometer                      1263 non-null   object \n",
      " 43  Tripmeter                       1216 non-null   object \n",
      " 44  Seating_Capacity                1270 non-null   float64\n",
      " 45  Seats_Material                  1264 non-null   object \n",
      " 46  Type                            1275 non-null   object \n",
      " 47  Wheelbase                       1256 non-null   object \n",
      " 48  Wheels_Size                     1220 non-null   object \n",
      " 49  Start_/_Stop_Button             598 non-null    object \n",
      " 50  12v_Power_Outlet                1122 non-null   object \n",
      " 51  Audiosystem                     1232 non-null   object \n",
      " 52  Aux-in_Compatibility            992 non-null    object \n",
      " 53  Average_Fuel_Consumption        931 non-null    object \n",
      " 54  Basic_Warranty                  836 non-null    object \n",
      " 55  Bluetooth                       984 non-null    object \n",
      " 56  Boot-lid_Opener                 1262 non-null   object \n",
      " 57  Boot_Space                      1027 non-null   object \n",
      " 58  CD_/_MP3_/_DVD_Player           967 non-null    object \n",
      " 59  Central_Locking                 1127 non-null   object \n",
      " 60  Child_Safety_Locks              1201 non-null   object \n",
      " 61  Clock                           1142 non-null   object \n",
      " 62  Cup_Holders                     1235 non-null   object \n",
      " 63  Distance_to_Empty               1033 non-null   object \n",
      " 64  Door_Pockets                    1159 non-null   object \n",
      " 65  Engine_Malfunction_Light        1159 non-null   object \n",
      " 66  Extended_Warranty               615 non-null    object \n",
      " 67  FM_Radio                        1027 non-null   object \n",
      " 68  Fuel-lid_Opener                 1262 non-null   object \n",
      " 69  Fuel_Gauge                      1237 non-null   object \n",
      " 70  Handbrake                       1219 non-null   object \n",
      " 71  Instrument_Console              1262 non-null   object \n",
      " 72  Low_Fuel_Warning                1240 non-null   object \n",
      " 73  Minimum_Turning_Radius          895 non-null    object \n",
      " 74  Multifunction_Display           1187 non-null   object \n",
      " 75  Sun_Visor                       1214 non-null   object \n",
      " 76  Third_Row_AC_Vents              910 non-null    object \n",
      " 77  Ventilation_System              1241 non-null   object \n",
      " 78  Auto-Dimming_Rear-View_Mirror   656 non-null    object \n",
      "dtypes: float64(4), object(75)\n",
      "memory usage: 787.7+ KB\n"
     ]
    }
   ],
   "source": [
    "df.info()"
   ]
  },
  {
   "cell_type": "code",
   "execution_count": 6,
   "id": "ed90418e",
   "metadata": {},
   "outputs": [
    {
     "data": {
      "text/plain": [
       "Index(['Make', 'Model', 'Variant', 'Ex-Showroom_Price', 'Displacement',\n",
       "       'Cylinders', 'Valves_Per_Cylinder', 'Drivetrain',\n",
       "       'Cylinder_Configuration', 'Emission_Norm', 'Engine_Location',\n",
       "       'Fuel_System', 'Fuel_Tank_Capacity', 'Fuel_Type', 'Height', 'Length',\n",
       "       'Width', 'Body_Type', 'Doors', 'City_Mileage', 'Highway_Mileage',\n",
       "       'ARAI_Certified_Mileage', 'ARAI_Certified_Mileage_for_CNG',\n",
       "       'Kerb_Weight', 'Gears', 'Ground_Clearance', 'Front_Brakes',\n",
       "       'Rear_Brakes', 'Front_Suspension', 'Rear_Suspension', 'Front_Track',\n",
       "       'Rear_Track', 'Front_Tyre_&_Rim', 'Rear_Tyre_&_Rim', 'Power_Steering',\n",
       "       'Power_Windows', 'Power_Seats', 'Keyless_Entry', 'Power', 'Torque',\n",
       "       'Odometer', 'Speedometer', 'Tachometer', 'Tripmeter',\n",
       "       'Seating_Capacity', 'Seats_Material', 'Type', 'Wheelbase',\n",
       "       'Wheels_Size', 'Start_/_Stop_Button', '12v_Power_Outlet', 'Audiosystem',\n",
       "       'Aux-in_Compatibility', 'Average_Fuel_Consumption', 'Basic_Warranty',\n",
       "       'Bluetooth', 'Boot-lid_Opener', 'Boot_Space', 'CD_/_MP3_/_DVD_Player',\n",
       "       'Central_Locking', 'Child_Safety_Locks', 'Clock', 'Cup_Holders',\n",
       "       'Distance_to_Empty', 'Door_Pockets', 'Engine_Malfunction_Light',\n",
       "       'Extended_Warranty', 'FM_Radio', 'Fuel-lid_Opener', 'Fuel_Gauge',\n",
       "       'Handbrake', 'Instrument_Console', 'Low_Fuel_Warning',\n",
       "       'Minimum_Turning_Radius', 'Multifunction_Display', 'Sun_Visor',\n",
       "       'Third_Row_AC_Vents', 'Ventilation_System',\n",
       "       'Auto-Dimming_Rear-View_Mirror'],\n",
       "      dtype='object')"
      ]
     },
     "execution_count": 6,
     "metadata": {},
     "output_type": "execute_result"
    }
   ],
   "source": [
    "df.columns"
   ]
  },
  {
   "cell_type": "code",
   "execution_count": 7,
   "id": "7dd77a62",
   "metadata": {},
   "outputs": [
    {
     "data": {
      "text/plain": [
       "Make\n",
       "Maruti Suzuki       149\n",
       "Hyundai             130\n",
       "Mahindra            119\n",
       "Tata                100\n",
       "Toyota               82\n",
       "Honda                64\n",
       "Skoda                43\n",
       "Ford                 43\n",
       "Bmw                  37\n",
       "Renault              36\n",
       "Volkswagen           34\n",
       "Audi                 31\n",
       "Nissan               29\n",
       "Jeep                 28\n",
       "Land Rover Rover     27\n",
       "Fiat                 23\n",
       "Jaguar               22\n",
       "Kia                  21\n",
       "Volvo                18\n",
       "Datsun               15\n",
       "Porsche              14\n",
       "Maruti Suzuki R      14\n",
       "Lamborghini          13\n",
       "Mg                   13\n",
       "Icml                 11\n",
       "Land Rover           10\n",
       "Lexus                10\n",
       "Mini                 10\n",
       "Maserati              9\n",
       "Ferrari               8\n",
       "Mitsubishi            7\n",
       "Bentley               6\n",
       "Premier               6\n",
       "Force                 6\n",
       "Isuzu                 5\n",
       "Aston Martin          3\n",
       "Bajaj                 2\n",
       "Bugatti               2\n",
       "Dc                    1\n",
       "Name: count, dtype: int64"
      ]
     },
     "execution_count": 7,
     "metadata": {},
     "output_type": "execute_result"
    }
   ],
   "source": [
    "df['Make'].value_counts()"
   ]
  },
  {
   "cell_type": "code",
   "execution_count": 8,
   "id": "a2abf19e",
   "metadata": {},
   "outputs": [],
   "source": [
    "df['Make'].replace('Maruti Suzuki R', 'Maruti Suzuki', inplace = True)"
   ]
  },
  {
   "cell_type": "code",
   "execution_count": 9,
   "id": "c874a871",
   "metadata": {},
   "outputs": [
    {
     "data": {
      "text/plain": [
       "Make\n",
       "Maruti Suzuki       163\n",
       "Hyundai             130\n",
       "Mahindra            119\n",
       "Tata                100\n",
       "Toyota               82\n",
       "Honda                64\n",
       "Skoda                43\n",
       "Ford                 43\n",
       "Bmw                  37\n",
       "Renault              36\n",
       "Volkswagen           34\n",
       "Audi                 31\n",
       "Nissan               29\n",
       "Jeep                 28\n",
       "Land Rover Rover     27\n",
       "Fiat                 23\n",
       "Jaguar               22\n",
       "Kia                  21\n",
       "Volvo                18\n",
       "Datsun               15\n",
       "Porsche              14\n",
       "Mg                   13\n",
       "Lamborghini          13\n",
       "Icml                 11\n",
       "Mini                 10\n",
       "Land Rover           10\n",
       "Lexus                10\n",
       "Maserati              9\n",
       "Ferrari               8\n",
       "Mitsubishi            7\n",
       "Bentley               6\n",
       "Force                 6\n",
       "Premier               6\n",
       "Isuzu                 5\n",
       "Aston Martin          3\n",
       "Bugatti               2\n",
       "Bajaj                 2\n",
       "Dc                    1\n",
       "Name: count, dtype: int64"
      ]
     },
     "execution_count": 9,
     "metadata": {},
     "output_type": "execute_result"
    }
   ],
   "source": [
    "df['Make'].value_counts()"
   ]
  },
  {
   "cell_type": "code",
   "execution_count": 10,
   "id": "7756ca04",
   "metadata": {},
   "outputs": [],
   "source": [
    "df['Make'].replace('Land Rover Rover', 'Land Rover', inplace = True)"
   ]
  },
  {
   "cell_type": "code",
   "execution_count": 11,
   "id": "2e53ff06",
   "metadata": {},
   "outputs": [
    {
     "data": {
      "text/plain": [
       "Make\n",
       "Maruti Suzuki    163\n",
       "Hyundai          130\n",
       "Mahindra         119\n",
       "Tata             100\n",
       "Toyota            82\n",
       "Honda             64\n",
       "Skoda             43\n",
       "Ford              43\n",
       "Land Rover        37\n",
       "Bmw               37\n",
       "Renault           36\n",
       "Volkswagen        34\n",
       "Audi              31\n",
       "Nissan            29\n",
       "Jeep              28\n",
       "Fiat              23\n",
       "Jaguar            22\n",
       "Kia               21\n",
       "Volvo             18\n",
       "Datsun            15\n",
       "Porsche           14\n",
       "Mg                13\n",
       "Lamborghini       13\n",
       "Icml              11\n",
       "Mini              10\n",
       "Lexus             10\n",
       "Maserati           9\n",
       "Ferrari            8\n",
       "Mitsubishi         7\n",
       "Bentley            6\n",
       "Force              6\n",
       "Premier            6\n",
       "Isuzu              5\n",
       "Aston Martin       3\n",
       "Bugatti            2\n",
       "Bajaj              2\n",
       "Dc                 1\n",
       "Name: count, dtype: int64"
      ]
     },
     "execution_count": 11,
     "metadata": {},
     "output_type": "execute_result"
    }
   ],
   "source": [
    "df['Make'].value_counts()"
   ]
  },
  {
   "cell_type": "code",
   "execution_count": 12,
   "id": "1a6d9cb7",
   "metadata": {
    "scrolled": true
   },
   "outputs": [
    {
     "name": "stdout",
     "output_type": "stream",
     "text": [
      "<class 'pandas.core.frame.DataFrame'>\n",
      "RangeIndex: 1276 entries, 0 to 1275\n",
      "Data columns (total 79 columns):\n",
      " #   Column                          Non-Null Count  Dtype  \n",
      "---  ------                          --------------  -----  \n",
      " 0   Make                            1201 non-null   object \n",
      " 1   Model                           1276 non-null   object \n",
      " 2   Variant                         1276 non-null   object \n",
      " 3   Ex-Showroom_Price               1276 non-null   object \n",
      " 4   Displacement                    1264 non-null   object \n",
      " 5   Cylinders                       1210 non-null   float64\n",
      " 6   Valves_Per_Cylinder             1174 non-null   float64\n",
      " 7   Drivetrain                      1269 non-null   object \n",
      " 8   Cylinder_Configuration          1263 non-null   object \n",
      " 9   Emission_Norm                   1265 non-null   object \n",
      " 10  Engine_Location                 1233 non-null   object \n",
      " 11  Fuel_System                     1268 non-null   object \n",
      " 12  Fuel_Tank_Capacity              1207 non-null   object \n",
      " 13  Fuel_Type                       1276 non-null   object \n",
      " 14  Height                          1275 non-null   object \n",
      " 15  Length                          1276 non-null   object \n",
      " 16  Width                           1264 non-null   object \n",
      " 17  Body_Type                       1270 non-null   object \n",
      " 18  Doors                           1272 non-null   float64\n",
      " 19  City_Mileage                    721 non-null    object \n",
      " 20  Highway_Mileage                 476 non-null    object \n",
      " 21  ARAI_Certified_Mileage          1162 non-null   object \n",
      " 22  ARAI_Certified_Mileage_for_CNG  27 non-null     object \n",
      " 23  Kerb_Weight                     911 non-null    object \n",
      " 24  Gears                           1171 non-null   object \n",
      " 25  Ground_Clearance                987 non-null    object \n",
      " 26  Front_Brakes                    1251 non-null   object \n",
      " 27  Rear_Brakes                     1251 non-null   object \n",
      " 28  Front_Suspension                1217 non-null   object \n",
      " 29  Rear_Suspension                 1230 non-null   object \n",
      " 30  Front_Track                     609 non-null    object \n",
      " 31  Rear_Track                      600 non-null    object \n",
      " 32  Front_Tyre_&_Rim                1227 non-null   object \n",
      " 33  Rear_Tyre_&_Rim                 1228 non-null   object \n",
      " 34  Power_Steering                  1219 non-null   object \n",
      " 35  Power_Windows                   1179 non-null   object \n",
      " 36  Power_Seats                     383 non-null    object \n",
      " 37  Keyless_Entry                   1002 non-null   object \n",
      " 38  Power                           1276 non-null   object \n",
      " 39  Torque                          1274 non-null   object \n",
      " 40  Odometer                        1233 non-null   object \n",
      " 41  Speedometer                     1231 non-null   object \n",
      " 42  Tachometer                      1263 non-null   object \n",
      " 43  Tripmeter                       1216 non-null   object \n",
      " 44  Seating_Capacity                1270 non-null   float64\n",
      " 45  Seats_Material                  1264 non-null   object \n",
      " 46  Type                            1275 non-null   object \n",
      " 47  Wheelbase                       1256 non-null   object \n",
      " 48  Wheels_Size                     1220 non-null   object \n",
      " 49  Start_/_Stop_Button             598 non-null    object \n",
      " 50  12v_Power_Outlet                1122 non-null   object \n",
      " 51  Audiosystem                     1232 non-null   object \n",
      " 52  Aux-in_Compatibility            992 non-null    object \n",
      " 53  Average_Fuel_Consumption        931 non-null    object \n",
      " 54  Basic_Warranty                  836 non-null    object \n",
      " 55  Bluetooth                       984 non-null    object \n",
      " 56  Boot-lid_Opener                 1262 non-null   object \n",
      " 57  Boot_Space                      1027 non-null   object \n",
      " 58  CD_/_MP3_/_DVD_Player           967 non-null    object \n",
      " 59  Central_Locking                 1127 non-null   object \n",
      " 60  Child_Safety_Locks              1201 non-null   object \n",
      " 61  Clock                           1142 non-null   object \n",
      " 62  Cup_Holders                     1235 non-null   object \n",
      " 63  Distance_to_Empty               1033 non-null   object \n",
      " 64  Door_Pockets                    1159 non-null   object \n",
      " 65  Engine_Malfunction_Light        1159 non-null   object \n",
      " 66  Extended_Warranty               615 non-null    object \n",
      " 67  FM_Radio                        1027 non-null   object \n",
      " 68  Fuel-lid_Opener                 1262 non-null   object \n",
      " 69  Fuel_Gauge                      1237 non-null   object \n",
      " 70  Handbrake                       1219 non-null   object \n",
      " 71  Instrument_Console              1262 non-null   object \n",
      " 72  Low_Fuel_Warning                1240 non-null   object \n",
      " 73  Minimum_Turning_Radius          895 non-null    object \n",
      " 74  Multifunction_Display           1187 non-null   object \n",
      " 75  Sun_Visor                       1214 non-null   object \n",
      " 76  Third_Row_AC_Vents              910 non-null    object \n",
      " 77  Ventilation_System              1241 non-null   object \n",
      " 78  Auto-Dimming_Rear-View_Mirror   656 non-null    object \n",
      "dtypes: float64(4), object(75)\n",
      "memory usage: 787.7+ KB\n"
     ]
    }
   ],
   "source": [
    "df.info()"
   ]
  },
  {
   "cell_type": "code",
   "execution_count": 13,
   "id": "53b5f729",
   "metadata": {},
   "outputs": [],
   "source": [
    "df = df.dropna(axis=0, subset=['Make'])"
   ]
  },
  {
   "cell_type": "code",
   "execution_count": 14,
   "id": "22848698",
   "metadata": {},
   "outputs": [
    {
     "data": {
      "text/plain": [
       "Make\n",
       "False    1201\n",
       "Name: count, dtype: int64"
      ]
     },
     "execution_count": 14,
     "metadata": {},
     "output_type": "execute_result"
    }
   ],
   "source": [
    "df['Make'].isna().value_counts()"
   ]
  },
  {
   "cell_type": "code",
   "execution_count": 15,
   "id": "30c698ed",
   "metadata": {
    "scrolled": true
   },
   "outputs": [
    {
     "name": "stdout",
     "output_type": "stream",
     "text": [
      "<class 'pandas.core.frame.DataFrame'>\n",
      "Index: 1201 entries, 0 to 1275\n",
      "Data columns (total 79 columns):\n",
      " #   Column                          Non-Null Count  Dtype  \n",
      "---  ------                          --------------  -----  \n",
      " 0   Make                            1201 non-null   object \n",
      " 1   Model                           1201 non-null   object \n",
      " 2   Variant                         1201 non-null   object \n",
      " 3   Ex-Showroom_Price               1201 non-null   object \n",
      " 4   Displacement                    1190 non-null   object \n",
      " 5   Cylinders                       1135 non-null   float64\n",
      " 6   Valves_Per_Cylinder             1101 non-null   float64\n",
      " 7   Drivetrain                      1195 non-null   object \n",
      " 8   Cylinder_Configuration          1188 non-null   object \n",
      " 9   Emission_Norm                   1190 non-null   object \n",
      " 10  Engine_Location                 1158 non-null   object \n",
      " 11  Fuel_System                     1193 non-null   object \n",
      " 12  Fuel_Tank_Capacity              1134 non-null   object \n",
      " 13  Fuel_Type                       1201 non-null   object \n",
      " 14  Height                          1200 non-null   object \n",
      " 15  Length                          1201 non-null   object \n",
      " 16  Width                           1189 non-null   object \n",
      " 17  Body_Type                       1195 non-null   object \n",
      " 18  Doors                           1197 non-null   float64\n",
      " 19  City_Mileage                    671 non-null    object \n",
      " 20  Highway_Mileage                 432 non-null    object \n",
      " 21  ARAI_Certified_Mileage          1097 non-null   object \n",
      " 22  ARAI_Certified_Mileage_for_CNG  27 non-null     object \n",
      " 23  Kerb_Weight                     862 non-null    object \n",
      " 24  Gears                           1108 non-null   object \n",
      " 25  Ground_Clearance                934 non-null    object \n",
      " 26  Front_Brakes                    1176 non-null   object \n",
      " 27  Rear_Brakes                     1176 non-null   object \n",
      " 28  Front_Suspension                1147 non-null   object \n",
      " 29  Rear_Suspension                 1160 non-null   object \n",
      " 30  Front_Track                     556 non-null    object \n",
      " 31  Rear_Track                      547 non-null    object \n",
      " 32  Front_Tyre_&_Rim                1154 non-null   object \n",
      " 33  Rear_Tyre_&_Rim                 1155 non-null   object \n",
      " 34  Power_Steering                  1147 non-null   object \n",
      " 35  Power_Windows                   1106 non-null   object \n",
      " 36  Power_Seats                     322 non-null    object \n",
      " 37  Keyless_Entry                   938 non-null    object \n",
      " 38  Power                           1201 non-null   object \n",
      " 39  Torque                          1199 non-null   object \n",
      " 40  Odometer                        1164 non-null   object \n",
      " 41  Speedometer                     1162 non-null   object \n",
      " 42  Tachometer                      1190 non-null   object \n",
      " 43  Tripmeter                       1146 non-null   object \n",
      " 44  Seating_Capacity                1195 non-null   float64\n",
      " 45  Seats_Material                  1192 non-null   object \n",
      " 46  Type                            1201 non-null   object \n",
      " 47  Wheelbase                       1182 non-null   object \n",
      " 48  Wheels_Size                     1148 non-null   object \n",
      " 49  Start_/_Stop_Button             539 non-null    object \n",
      " 50  12v_Power_Outlet                1054 non-null   object \n",
      " 51  Audiosystem                     1160 non-null   object \n",
      " 52  Aux-in_Compatibility            925 non-null    object \n",
      " 53  Average_Fuel_Consumption        861 non-null    object \n",
      " 54  Basic_Warranty                  780 non-null    object \n",
      " 55  Bluetooth                       916 non-null    object \n",
      " 56  Boot-lid_Opener                 1189 non-null   object \n",
      " 57  Boot_Space                      962 non-null    object \n",
      " 58  CD_/_MP3_/_DVD_Player           900 non-null    object \n",
      " 59  Central_Locking                 1056 non-null   object \n",
      " 60  Child_Safety_Locks              1139 non-null   object \n",
      " 61  Clock                           1079 non-null   object \n",
      " 62  Cup_Holders                     1166 non-null   object \n",
      " 63  Distance_to_Empty               964 non-null    object \n",
      " 64  Door_Pockets                    1093 non-null   object \n",
      " 65  Engine_Malfunction_Light        1092 non-null   object \n",
      " 66  Extended_Warranty               567 non-null    object \n",
      " 67  FM_Radio                        960 non-null    object \n",
      " 68  Fuel-lid_Opener                 1189 non-null   object \n",
      " 69  Fuel_Gauge                      1168 non-null   object \n",
      " 70  Handbrake                       1145 non-null   object \n",
      " 71  Instrument_Console              1189 non-null   object \n",
      " 72  Low_Fuel_Warning                1167 non-null   object \n",
      " 73  Minimum_Turning_Radius          843 non-null    object \n",
      " 74  Multifunction_Display           1114 non-null   object \n",
      " 75  Sun_Visor                       1144 non-null   object \n",
      " 76  Third_Row_AC_Vents              861 non-null    object \n",
      " 77  Ventilation_System              1168 non-null   object \n",
      " 78  Auto-Dimming_Rear-View_Mirror   625 non-null    object \n",
      "dtypes: float64(4), object(75)\n",
      "memory usage: 750.6+ KB\n"
     ]
    }
   ],
   "source": [
    "df.info()"
   ]
  },
  {
   "cell_type": "code",
   "execution_count": 16,
   "id": "1cba89dd",
   "metadata": {},
   "outputs": [
    {
     "data": {
      "text/plain": [
       "Displacement\n",
       "1197 cc    108\n",
       "1498 cc     87\n",
       "1248 cc     62\n",
       "1497 cc     54\n",
       "998 cc      53\n",
       "          ... \n",
       "4497 cc      1\n",
       "2400 cc      1\n",
       "6752 cc      1\n",
       "3198 cc      1\n",
       "3200 cc      1\n",
       "Name: count, Length: 116, dtype: int64"
      ]
     },
     "execution_count": 16,
     "metadata": {},
     "output_type": "execute_result"
    }
   ],
   "source": [
    "df['Displacement'].value_counts()"
   ]
  },
  {
   "cell_type": "code",
   "execution_count": 17,
   "id": "8a1ece94",
   "metadata": {},
   "outputs": [],
   "source": [
    "df['Displacement'].replace(np.nan, 'Electric car', inplace = True)"
   ]
  },
  {
   "cell_type": "code",
   "execution_count": 18,
   "id": "265b2e0e",
   "metadata": {
    "scrolled": true
   },
   "outputs": [
    {
     "name": "stdout",
     "output_type": "stream",
     "text": [
      "<class 'pandas.core.frame.DataFrame'>\n",
      "Index: 1201 entries, 0 to 1275\n",
      "Data columns (total 79 columns):\n",
      " #   Column                          Non-Null Count  Dtype  \n",
      "---  ------                          --------------  -----  \n",
      " 0   Make                            1201 non-null   object \n",
      " 1   Model                           1201 non-null   object \n",
      " 2   Variant                         1201 non-null   object \n",
      " 3   Ex-Showroom_Price               1201 non-null   object \n",
      " 4   Displacement                    1201 non-null   object \n",
      " 5   Cylinders                       1135 non-null   float64\n",
      " 6   Valves_Per_Cylinder             1101 non-null   float64\n",
      " 7   Drivetrain                      1195 non-null   object \n",
      " 8   Cylinder_Configuration          1188 non-null   object \n",
      " 9   Emission_Norm                   1190 non-null   object \n",
      " 10  Engine_Location                 1158 non-null   object \n",
      " 11  Fuel_System                     1193 non-null   object \n",
      " 12  Fuel_Tank_Capacity              1134 non-null   object \n",
      " 13  Fuel_Type                       1201 non-null   object \n",
      " 14  Height                          1200 non-null   object \n",
      " 15  Length                          1201 non-null   object \n",
      " 16  Width                           1189 non-null   object \n",
      " 17  Body_Type                       1195 non-null   object \n",
      " 18  Doors                           1197 non-null   float64\n",
      " 19  City_Mileage                    671 non-null    object \n",
      " 20  Highway_Mileage                 432 non-null    object \n",
      " 21  ARAI_Certified_Mileage          1097 non-null   object \n",
      " 22  ARAI_Certified_Mileage_for_CNG  27 non-null     object \n",
      " 23  Kerb_Weight                     862 non-null    object \n",
      " 24  Gears                           1108 non-null   object \n",
      " 25  Ground_Clearance                934 non-null    object \n",
      " 26  Front_Brakes                    1176 non-null   object \n",
      " 27  Rear_Brakes                     1176 non-null   object \n",
      " 28  Front_Suspension                1147 non-null   object \n",
      " 29  Rear_Suspension                 1160 non-null   object \n",
      " 30  Front_Track                     556 non-null    object \n",
      " 31  Rear_Track                      547 non-null    object \n",
      " 32  Front_Tyre_&_Rim                1154 non-null   object \n",
      " 33  Rear_Tyre_&_Rim                 1155 non-null   object \n",
      " 34  Power_Steering                  1147 non-null   object \n",
      " 35  Power_Windows                   1106 non-null   object \n",
      " 36  Power_Seats                     322 non-null    object \n",
      " 37  Keyless_Entry                   938 non-null    object \n",
      " 38  Power                           1201 non-null   object \n",
      " 39  Torque                          1199 non-null   object \n",
      " 40  Odometer                        1164 non-null   object \n",
      " 41  Speedometer                     1162 non-null   object \n",
      " 42  Tachometer                      1190 non-null   object \n",
      " 43  Tripmeter                       1146 non-null   object \n",
      " 44  Seating_Capacity                1195 non-null   float64\n",
      " 45  Seats_Material                  1192 non-null   object \n",
      " 46  Type                            1201 non-null   object \n",
      " 47  Wheelbase                       1182 non-null   object \n",
      " 48  Wheels_Size                     1148 non-null   object \n",
      " 49  Start_/_Stop_Button             539 non-null    object \n",
      " 50  12v_Power_Outlet                1054 non-null   object \n",
      " 51  Audiosystem                     1160 non-null   object \n",
      " 52  Aux-in_Compatibility            925 non-null    object \n",
      " 53  Average_Fuel_Consumption        861 non-null    object \n",
      " 54  Basic_Warranty                  780 non-null    object \n",
      " 55  Bluetooth                       916 non-null    object \n",
      " 56  Boot-lid_Opener                 1189 non-null   object \n",
      " 57  Boot_Space                      962 non-null    object \n",
      " 58  CD_/_MP3_/_DVD_Player           900 non-null    object \n",
      " 59  Central_Locking                 1056 non-null   object \n",
      " 60  Child_Safety_Locks              1139 non-null   object \n",
      " 61  Clock                           1079 non-null   object \n",
      " 62  Cup_Holders                     1166 non-null   object \n",
      " 63  Distance_to_Empty               964 non-null    object \n",
      " 64  Door_Pockets                    1093 non-null   object \n",
      " 65  Engine_Malfunction_Light        1092 non-null   object \n",
      " 66  Extended_Warranty               567 non-null    object \n",
      " 67  FM_Radio                        960 non-null    object \n",
      " 68  Fuel-lid_Opener                 1189 non-null   object \n",
      " 69  Fuel_Gauge                      1168 non-null   object \n",
      " 70  Handbrake                       1145 non-null   object \n",
      " 71  Instrument_Console              1189 non-null   object \n",
      " 72  Low_Fuel_Warning                1167 non-null   object \n",
      " 73  Minimum_Turning_Radius          843 non-null    object \n",
      " 74  Multifunction_Display           1114 non-null   object \n",
      " 75  Sun_Visor                       1144 non-null   object \n",
      " 76  Third_Row_AC_Vents              861 non-null    object \n",
      " 77  Ventilation_System              1168 non-null   object \n",
      " 78  Auto-Dimming_Rear-View_Mirror   625 non-null    object \n",
      "dtypes: float64(4), object(75)\n",
      "memory usage: 750.6+ KB\n"
     ]
    }
   ],
   "source": [
    "df.info()"
   ]
  },
  {
   "cell_type": "code",
   "execution_count": 19,
   "id": "2567bef6",
   "metadata": {},
   "outputs": [
    {
     "data": {
      "text/plain": [
       "Displacement\n",
       "1197 cc    108\n",
       "1498 cc     87\n",
       "1248 cc     62\n",
       "1497 cc     54\n",
       "998 cc      53\n",
       "          ... \n",
       "4497 cc      1\n",
       "2400 cc      1\n",
       "6752 cc      1\n",
       "3198 cc      1\n",
       "3200 cc      1\n",
       "Name: count, Length: 117, dtype: int64"
      ]
     },
     "execution_count": 19,
     "metadata": {},
     "output_type": "execute_result"
    }
   ],
   "source": [
    "df['Displacement'].value_counts()"
   ]
  },
  {
   "cell_type": "code",
   "execution_count": 20,
   "id": "a3526963",
   "metadata": {},
   "outputs": [],
   "source": [
    "df['Cylinders'].replace(np.nan, 'NA', inplace = True)"
   ]
  },
  {
   "cell_type": "code",
   "execution_count": 21,
   "id": "de425cff",
   "metadata": {
    "scrolled": true
   },
   "outputs": [
    {
     "name": "stdout",
     "output_type": "stream",
     "text": [
      "<class 'pandas.core.frame.DataFrame'>\n",
      "Index: 1201 entries, 0 to 1275\n",
      "Data columns (total 79 columns):\n",
      " #   Column                          Non-Null Count  Dtype  \n",
      "---  ------                          --------------  -----  \n",
      " 0   Make                            1201 non-null   object \n",
      " 1   Model                           1201 non-null   object \n",
      " 2   Variant                         1201 non-null   object \n",
      " 3   Ex-Showroom_Price               1201 non-null   object \n",
      " 4   Displacement                    1201 non-null   object \n",
      " 5   Cylinders                       1201 non-null   object \n",
      " 6   Valves_Per_Cylinder             1101 non-null   float64\n",
      " 7   Drivetrain                      1195 non-null   object \n",
      " 8   Cylinder_Configuration          1188 non-null   object \n",
      " 9   Emission_Norm                   1190 non-null   object \n",
      " 10  Engine_Location                 1158 non-null   object \n",
      " 11  Fuel_System                     1193 non-null   object \n",
      " 12  Fuel_Tank_Capacity              1134 non-null   object \n",
      " 13  Fuel_Type                       1201 non-null   object \n",
      " 14  Height                          1200 non-null   object \n",
      " 15  Length                          1201 non-null   object \n",
      " 16  Width                           1189 non-null   object \n",
      " 17  Body_Type                       1195 non-null   object \n",
      " 18  Doors                           1197 non-null   float64\n",
      " 19  City_Mileage                    671 non-null    object \n",
      " 20  Highway_Mileage                 432 non-null    object \n",
      " 21  ARAI_Certified_Mileage          1097 non-null   object \n",
      " 22  ARAI_Certified_Mileage_for_CNG  27 non-null     object \n",
      " 23  Kerb_Weight                     862 non-null    object \n",
      " 24  Gears                           1108 non-null   object \n",
      " 25  Ground_Clearance                934 non-null    object \n",
      " 26  Front_Brakes                    1176 non-null   object \n",
      " 27  Rear_Brakes                     1176 non-null   object \n",
      " 28  Front_Suspension                1147 non-null   object \n",
      " 29  Rear_Suspension                 1160 non-null   object \n",
      " 30  Front_Track                     556 non-null    object \n",
      " 31  Rear_Track                      547 non-null    object \n",
      " 32  Front_Tyre_&_Rim                1154 non-null   object \n",
      " 33  Rear_Tyre_&_Rim                 1155 non-null   object \n",
      " 34  Power_Steering                  1147 non-null   object \n",
      " 35  Power_Windows                   1106 non-null   object \n",
      " 36  Power_Seats                     322 non-null    object \n",
      " 37  Keyless_Entry                   938 non-null    object \n",
      " 38  Power                           1201 non-null   object \n",
      " 39  Torque                          1199 non-null   object \n",
      " 40  Odometer                        1164 non-null   object \n",
      " 41  Speedometer                     1162 non-null   object \n",
      " 42  Tachometer                      1190 non-null   object \n",
      " 43  Tripmeter                       1146 non-null   object \n",
      " 44  Seating_Capacity                1195 non-null   float64\n",
      " 45  Seats_Material                  1192 non-null   object \n",
      " 46  Type                            1201 non-null   object \n",
      " 47  Wheelbase                       1182 non-null   object \n",
      " 48  Wheels_Size                     1148 non-null   object \n",
      " 49  Start_/_Stop_Button             539 non-null    object \n",
      " 50  12v_Power_Outlet                1054 non-null   object \n",
      " 51  Audiosystem                     1160 non-null   object \n",
      " 52  Aux-in_Compatibility            925 non-null    object \n",
      " 53  Average_Fuel_Consumption        861 non-null    object \n",
      " 54  Basic_Warranty                  780 non-null    object \n",
      " 55  Bluetooth                       916 non-null    object \n",
      " 56  Boot-lid_Opener                 1189 non-null   object \n",
      " 57  Boot_Space                      962 non-null    object \n",
      " 58  CD_/_MP3_/_DVD_Player           900 non-null    object \n",
      " 59  Central_Locking                 1056 non-null   object \n",
      " 60  Child_Safety_Locks              1139 non-null   object \n",
      " 61  Clock                           1079 non-null   object \n",
      " 62  Cup_Holders                     1166 non-null   object \n",
      " 63  Distance_to_Empty               964 non-null    object \n",
      " 64  Door_Pockets                    1093 non-null   object \n",
      " 65  Engine_Malfunction_Light        1092 non-null   object \n",
      " 66  Extended_Warranty               567 non-null    object \n",
      " 67  FM_Radio                        960 non-null    object \n",
      " 68  Fuel-lid_Opener                 1189 non-null   object \n",
      " 69  Fuel_Gauge                      1168 non-null   object \n",
      " 70  Handbrake                       1145 non-null   object \n",
      " 71  Instrument_Console              1189 non-null   object \n",
      " 72  Low_Fuel_Warning                1167 non-null   object \n",
      " 73  Minimum_Turning_Radius          843 non-null    object \n",
      " 74  Multifunction_Display           1114 non-null   object \n",
      " 75  Sun_Visor                       1144 non-null   object \n",
      " 76  Third_Row_AC_Vents              861 non-null    object \n",
      " 77  Ventilation_System              1168 non-null   object \n",
      " 78  Auto-Dimming_Rear-View_Mirror   625 non-null    object \n",
      "dtypes: float64(3), object(76)\n",
      "memory usage: 750.6+ KB\n"
     ]
    }
   ],
   "source": [
    "df.info()"
   ]
  },
  {
   "cell_type": "code",
   "execution_count": 22,
   "id": "8fc7f845",
   "metadata": {
    "scrolled": true
   },
   "outputs": [
    {
     "data": {
      "text/plain": [
       "<Axes: xlabel='Make'>"
      ]
     },
     "execution_count": 22,
     "metadata": {},
     "output_type": "execute_result"
    },
    {
     "data": {
      "image/png": "[encoded data removed]",
      "text/plain": [
       "<Figure size 640x480 with 1 Axes>"
      ]
     },
     "metadata": {},
     "output_type": "display_data"
    }
   ],
   "source": [
    "df['Make'].value_counts().plot(kind = 'bar')"
   ]
  },
  {
   "cell_type": "code",
   "execution_count": 23,
   "id": "83ee1e98",
   "metadata": {},
   "outputs": [],
   "source": [
    "df.rename(columns=str.lower,inplace=True)"
   ]
  },
  {
   "cell_type": "code",
   "execution_count": 24,
   "id": "84f421db",
   "metadata": {
    "scrolled": true
   },
   "outputs": [],
   "source": [
    "new_df = df[['make','model','variant','ex-showroom_price','body_type','displacement', 'fuel_system', 'fuel_type',  'city_mileage',  'seating_capacity', 'child_safety_locks']]"
   ]
  },
  {
   "cell_type": "code",
   "execution_count": 25,
   "id": "6fc0ae64",
   "metadata": {},
   "outputs": [
    {
     "data": {
      "text/html": [
       "<div>\n",
       "<style scoped>\n",
       "    .dataframe tbody tr th:only-of-type {\n",
       "        vertical-align: middle;\n",
       "    }\n",
       "\n",
       "    .dataframe tbody tr th {\n",
       "        vertical-align: top;\n",
       "    }\n",
       "\n",
       "    .dataframe thead th {\n",
       "        text-align: right;\n",
       "    }\n",
       "</style>\n",
       "<table border=\"1\" class=\"dataframe\">\n",
       "  <thead>\n",
       "    <tr style=\"text-align: right;\">\n",
       "      <th></th>\n",
       "      <th>make</th>\n",
       "      <th>model</th>\n",
       "      <th>variant</th>\n",
       "      <th>ex-showroom_price</th>\n",
       "      <th>body_type</th>\n",
       "      <th>displacement</th>\n",
       "      <th>fuel_system</th>\n",
       "      <th>fuel_type</th>\n",
       "      <th>city_mileage</th>\n",
       "      <th>seating_capacity</th>\n",
       "      <th>child_safety_locks</th>\n",
       "    </tr>\n",
       "  </thead>\n",
       "  <tbody>\n",
       "    <tr>\n",
       "      <th>0</th>\n",
       "      <td>Tata</td>\n",
       "      <td>Nano Genx</td>\n",
       "      <td>Xt</td>\n",
       "      <td>Rs. 2,92,667</td>\n",
       "      <td>Hatchback</td>\n",
       "      <td>624 cc</td>\n",
       "      <td>Injection</td>\n",
       "      <td>Petrol</td>\n",
       "      <td>?23.6 km/litre</td>\n",
       "      <td>4.0</td>\n",
       "      <td>Yes</td>\n",
       "    </tr>\n",
       "    <tr>\n",
       "      <th>1</th>\n",
       "      <td>Tata</td>\n",
       "      <td>Nano Genx</td>\n",
       "      <td>Xe</td>\n",
       "      <td>Rs. 2,36,447</td>\n",
       "      <td>Hatchback</td>\n",
       "      <td>624 cc</td>\n",
       "      <td>Injection</td>\n",
       "      <td>Petrol</td>\n",
       "      <td>?23.6 km/litre</td>\n",
       "      <td>4.0</td>\n",
       "      <td>Yes</td>\n",
       "    </tr>\n",
       "    <tr>\n",
       "      <th>2</th>\n",
       "      <td>Tata</td>\n",
       "      <td>Nano Genx</td>\n",
       "      <td>Emax Xm</td>\n",
       "      <td>Rs. 2,96,661</td>\n",
       "      <td>Hatchback</td>\n",
       "      <td>624 cc</td>\n",
       "      <td>Injection</td>\n",
       "      <td>CNG</td>\n",
       "      <td>NaN</td>\n",
       "      <td>4.0</td>\n",
       "      <td>Yes</td>\n",
       "    </tr>\n",
       "    <tr>\n",
       "      <th>3</th>\n",
       "      <td>Tata</td>\n",
       "      <td>Nano Genx</td>\n",
       "      <td>Xta</td>\n",
       "      <td>Rs. 3,34,768</td>\n",
       "      <td>Hatchback</td>\n",
       "      <td>624 cc</td>\n",
       "      <td>Injection</td>\n",
       "      <td>Petrol</td>\n",
       "      <td>?23.6 km/litre</td>\n",
       "      <td>4.0</td>\n",
       "      <td>Yes</td>\n",
       "    </tr>\n",
       "    <tr>\n",
       "      <th>4</th>\n",
       "      <td>Tata</td>\n",
       "      <td>Nano Genx</td>\n",
       "      <td>Xm</td>\n",
       "      <td>Rs. 2,72,223</td>\n",
       "      <td>Hatchback</td>\n",
       "      <td>624 cc</td>\n",
       "      <td>Injection</td>\n",
       "      <td>Petrol</td>\n",
       "      <td>?23.6 km/litre</td>\n",
       "      <td>4.0</td>\n",
       "      <td>Yes</td>\n",
       "    </tr>\n",
       "  </tbody>\n",
       "</table>\n",
       "</div>"
      ],
      "text/plain": [
       "   make      model  variant ex-showroom_price  body_type displacement  \\\n",
       "0  Tata  Nano Genx       Xt      Rs. 2,92,667  Hatchback       624 cc   \n",
       "1  Tata  Nano Genx       Xe      Rs. 2,36,447  Hatchback       624 cc   \n",
       "2  Tata  Nano Genx  Emax Xm      Rs. 2,96,661  Hatchback       624 cc   \n",
       "3  Tata  Nano Genx      Xta      Rs. 3,34,768  Hatchback       624 cc   \n",
       "4  Tata  Nano Genx       Xm      Rs. 2,72,223  Hatchback       624 cc   \n",
       "\n",
       "  fuel_system fuel_type    city_mileage  seating_capacity child_safety_locks  \n",
       "0   Injection    Petrol  ?23.6 km/litre               4.0                Yes  \n",
       "1   Injection    Petrol  ?23.6 km/litre               4.0                Yes  \n",
       "2   Injection       CNG             NaN               4.0                Yes  \n",
       "3   Injection    Petrol  ?23.6 km/litre               4.0                Yes  \n",
       "4   Injection    Petrol  ?23.6 km/litre               4.0                Yes  "
      ]
     },
     "execution_count": 25,
     "metadata": {},
     "output_type": "execute_result"
    }
   ],
   "source": [
    "new_df.head()"
   ]
  },
  {
   "cell_type": "code",
   "execution_count": 26,
   "id": "b2b4e5a0",
   "metadata": {},
   "outputs": [
    {
     "data": {
      "text/plain": [
       "make                    0\n",
       "model                   0\n",
       "variant                 0\n",
       "ex-showroom_price       0\n",
       "body_type               6\n",
       "displacement            0\n",
       "fuel_system             8\n",
       "fuel_type               0\n",
       "city_mileage          530\n",
       "seating_capacity        6\n",
       "child_safety_locks     62\n",
       "dtype: int64"
      ]
     },
     "execution_count": 26,
     "metadata": {},
     "output_type": "execute_result"
    }
   ],
   "source": [
    "new_df.isna().sum()"
   ]
  },
  {
   "cell_type": "code",
   "execution_count": 27,
   "id": "304bfb76",
   "metadata": {
    "scrolled": false
   },
   "outputs": [
    {
     "name": "stderr",
     "output_type": "stream",
     "text": [
      "C:\\Users\\win10\\AppData\\Local\\Temp\\ipykernel_7448\\2464129383.py:1: SettingWithCopyWarning: \n",
      "A value is trying to be set on a copy of a slice from a DataFrame\n",
      "\n",
      "See the caveats in the documentation: https://pandas.pydata.org/pandas-docs/stable/user_guide/indexing.html#returning-a-view-versus-a-copy\n",
      "  new_df['body_type'].replace(np.nan, 'SUV', inplace = True)\n"
     ]
    }
   ],
   "source": [
    "new_df['body_type'].replace(np.nan, 'SUV', inplace = True)"
   ]
  },
  {
   "cell_type": "code",
   "execution_count": 28,
   "id": "54311c22",
   "metadata": {},
   "outputs": [
    {
     "data": {
      "text/plain": [
       "make                    0\n",
       "model                   0\n",
       "variant                 0\n",
       "ex-showroom_price       0\n",
       "body_type               0\n",
       "displacement            0\n",
       "fuel_system             8\n",
       "fuel_type               0\n",
       "city_mileage          530\n",
       "seating_capacity        6\n",
       "child_safety_locks     62\n",
       "dtype: int64"
      ]
     },
     "execution_count": 28,
     "metadata": {},
     "output_type": "execute_result"
    }
   ],
   "source": [
    "new_df.isna().sum()"
   ]
  },
  {
   "cell_type": "code",
   "execution_count": 29,
   "id": "8a15ff87",
   "metadata": {},
   "outputs": [
    {
     "name": "stdout",
     "output_type": "stream",
     "text": [
      "<class 'pandas.core.frame.DataFrame'>\n",
      "Index: 1201 entries, 0 to 1275\n",
      "Data columns (total 11 columns):\n",
      " #   Column              Non-Null Count  Dtype  \n",
      "---  ------              --------------  -----  \n",
      " 0   make                1201 non-null   object \n",
      " 1   model               1201 non-null   object \n",
      " 2   variant             1201 non-null   object \n",
      " 3   ex-showroom_price   1201 non-null   object \n",
      " 4   body_type           1201 non-null   object \n",
      " 5   displacement        1201 non-null   object \n",
      " 6   fuel_system         1193 non-null   object \n",
      " 7   fuel_type           1201 non-null   object \n",
      " 8   city_mileage        671 non-null    object \n",
      " 9   seating_capacity    1195 non-null   float64\n",
      " 10  child_safety_locks  1139 non-null   object \n",
      "dtypes: float64(1), object(10)\n",
      "memory usage: 112.6+ KB\n"
     ]
    }
   ],
   "source": [
    "new_df.info()"
   ]
  },
  {
   "cell_type": "code",
   "execution_count": 30,
   "id": "49d7d8b6",
   "metadata": {
    "scrolled": true
   },
   "outputs": [
    {
     "data": {
      "text/plain": [
       "<Axes: xlabel='body_type'>"
      ]
     },
     "execution_count": 30,
     "metadata": {},
     "output_type": "execute_result"
    },
    {
     "data": {
      "image/png": "[encoded data removed]",
      "text/plain": [
       "<Figure size 640x480 with 1 Axes>"
      ]
     },
     "metadata": {},
     "output_type": "display_data"
    }
   ],
   "source": [
    "df['body_type'].value_counts().plot(kind = 'bar')"
   ]
  },
  {
   "cell_type": "code",
   "execution_count": 34,
   "id": "1bb60eef",
   "metadata": {},
   "outputs": [
    {
     "data": {
      "text/plain": [
       "<Axes: ylabel='count'>"
      ]
     },
     "execution_count": 34,
     "metadata": {},
     "output_type": "execute_result"
    },
    {
     "data": {
      "image/png": "[encoded data removed]",
      "text/plain": [
       "<Figure size 640x480 with 1 Axes>"
      ]
     },
     "metadata": {},
     "output_type": "display_data"
    }
   ],
   "source": [
    "new_df['fuel_type'].value_counts().plot(kind = 'pie')"
   ]
  },
  {
   "cell_type": "code",
   "execution_count": 33,
   "id": "89e3a7a0",
   "metadata": {
    "scrolled": true
   },
   "outputs": [
    {
     "data": {
      "text/plain": [
       "<Axes: xlabel='fuel_system'>"
      ]
     },
     "execution_count": 33,
     "metadata": {},
     "output_type": "execute_result"
    },
    {
     "data": {
      "image/png": "[encoded data removed]",
      "text/plain": [
       "<Figure size 640x480 with 1 Axes>"
      ]
     },
     "metadata": {},
     "output_type": "display_data"
    }
   ],
   "source": [
    "new_df['fuel_system'].value_counts().plot(kind = 'bar')"
   ]
  },
  {
   "cell_type": "code",
   "execution_count": 35,
   "id": "ce370271",
   "metadata": {},
   "outputs": [
    {
     "data": {
      "text/plain": [
       "<Axes: xlabel='seating_capacity'>"
      ]
     },
     "execution_count": 35,
     "metadata": {},
     "output_type": "execute_result"
    },
    {
     "data": {
      "image/png": "[encoded data removed]",
      "text/plain": [
       "<Figure size 640x480 with 1 Axes>"
      ]
     },
     "metadata": {},
     "output_type": "display_data"
    }
   ],
   "source": [
    "new_df['seating_capacity'].value_counts().plot(kind = 'bar')"
   ]
  }
 ],
 "metadata": {
  "kernelspec": {
   "display_name": "Python 3 (ipykernel)",
   "language": "python",
   "name": "python3"
  },
  "language_info": {
   "codemirror_mode": {
    "name": "ipython",
    "version": 3
   },
   "file_extension": ".py",
   "mimetype": "text/x-python",
   "name": "python",
   "nbconvert_exporter": "python",
   "pygments_lexer": "ipython3",
   "version": "3.11.5"
  }
 },
 "nbformat": 4,
 "nbformat_minor": 5
}
